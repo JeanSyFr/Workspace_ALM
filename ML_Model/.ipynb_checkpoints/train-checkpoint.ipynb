{
 "cells": [
  {
   "cell_type": "code",
   "execution_count": 1,
   "id": "1cb6be26-d195-4efe-a97d-7a87f736030e",
   "metadata": {},
   "outputs": [],
   "source": [
    "#!pip install tensorflow"
   ]
  },
  {
   "cell_type": "code",
   "execution_count": 2,
   "id": "6104a2d2-36fb-4ddd-9854-902c77172c71",
   "metadata": {},
   "outputs": [],
   "source": [
    "import models.model as mdl\n",
    "import numpy as np\n",
    "import pandas as pd\n",
    "import tensorflow as tf \n",
    "import data_reader as rd\n",
    "import model_trainer as trn\n",
    "import matplotlib.pyplot as plt"
   ]
  },
  {
   "cell_type": "code",
   "execution_count": 4,
   "id": "b7323c4e-153c-45ec-b848-03888e61c0a3",
   "metadata": {},
   "outputs": [],
   "source": [
    "my_first_mdl = mdl.LSTM_Model(hiden_layers_sizes = [300]*6, simple_construct = False)"
   ]
  },
  {
   "cell_type": "code",
   "execution_count": null,
   "id": "3e403db4-f65d-456c-84e4-a983e4c837a9",
   "metadata": {},
   "outputs": [],
   "source": [
    "reader = rd.reader(\"/../Data/Q122/46500_14feat_Spread_DF\",test_split_rate = 0.2, scal_target = True, spread = True)"
   ]
  },
  {
   "cell_type": "code",
   "execution_count": null,
   "id": "4a6d20cb-f678-4a03-8de4-ba459f2f4970",
   "metadata": {},
   "outputs": [],
   "source": []
  },
  {
   "cell_type": "code",
   "execution_count": null,
   "id": "3aae6b69-b164-4ef2-b64d-13e58903e44e",
   "metadata": {},
   "outputs": [],
   "source": [
    "x = reader.x_train\n",
    "y = reader.y_train\n",
    "for i in range(60):\n",
    "    if max(abs(np.max(y[:,i,0])), abs(np.min(y[:,i,0]))) > 30*abs(np.mean(y[:,i,0])):\n",
    "        #print(i)\n",
    "        plt.plot(y[:,i,0])"
   ]
  },
  {
   "cell_type": "code",
   "execution_count": null,
   "id": "cdc78558-eacb-4dfd-ac89-57c28c48337e",
   "metadata": {},
   "outputs": [],
   "source": [
    "x.shape, y.shape"
   ]
  },
  {
   "cell_type": "code",
   "execution_count": null,
   "id": "25c8b6f2-df9e-4232-a567-aeb592b7e577",
   "metadata": {},
   "outputs": [],
   "source": [
    "model_trainer = trn.trainer([my_first_mdl], reader,max_epochs=400)\n",
    "model_trainer.fit_models()\n"
   ]
  },
  {
   "cell_type": "code",
   "execution_count": null,
   "id": "c76ef224-b046-4cc9-ac2a-b31c1d1fb5ed",
   "metadata": {},
   "outputs": [],
   "source": [
    "history = my_first_mdl.train_hists[0]"
   ]
  },
  {
   "cell_type": "code",
   "execution_count": null,
   "id": "7673d29f-f0a3-4a66-8ea6-c498c1643c07",
   "metadata": {},
   "outputs": [],
   "source": [
    "history.history.keys()"
   ]
  },
  {
   "cell_type": "code",
   "execution_count": null,
   "id": "c3a5c64a-c5e8-4a85-858d-0c91bc8b5f35",
   "metadata": {},
   "outputs": [],
   "source": [
    "#history = my_first_mdl._model.fit(x, y, epochs = 100, validation_split = 0.2, verbose = 1, shuffle=True, batch_size = 5000)"
   ]
  },
  {
   "cell_type": "code",
   "execution_count": null,
   "id": "f7e96c02-b5a2-42ee-8895-8c96fc22c87c",
   "metadata": {},
   "outputs": [],
   "source": [
    "plt.plot(history.history['loss'], color = 'red')\n",
    "plt.plot(history.history['val_loss'], color = 'blue')"
   ]
  },
  {
   "cell_type": "code",
   "execution_count": null,
   "id": "88b73b12-d05b-4c3d-a6fd-39b46a28cc87",
   "metadata": {},
   "outputs": [],
   "source": [
    "plt.plot(history.history['mean_absolute_percentage_error'], color = 'red')\n",
    "plt.plot(history.history['val_mean_absolute_percentage_error'], color = 'blue')"
   ]
  },
  {
   "cell_type": "code",
   "execution_count": null,
   "id": "0f022d95-1298-4eee-bdc7-25708538ce37",
   "metadata": {},
   "outputs": [],
   "source": [
    "plt.plot(history.history['mean_squared_error'], color = 'red')\n",
    "plt.plot(history.history['val_mean_squared_error'], color = 'blue')"
   ]
  },
  {
   "cell_type": "code",
   "execution_count": null,
   "id": "478d015a-eb20-4d9b-a12c-c254a90e530d",
   "metadata": {},
   "outputs": [],
   "source": [
    "plt.plot(history.history['mean_absolute_error'], color = 'red')\n",
    "plt.plot(history.history['val_mean_absolute_error'], color = 'blue')"
   ]
  },
  {
   "cell_type": "code",
   "execution_count": null,
   "id": "222872a9-1d46-4db2-bbdc-9616d72fde61",
   "metadata": {},
   "outputs": [],
   "source": [
    "Y = my_first_mdl._model(reader.x_test)\n",
    "Y = np.array(Y)\n",
    "Y.shape"
   ]
  },
  {
   "cell_type": "code",
   "execution_count": null,
   "id": "51293b8e-46cf-4d66-8b15-a1badc02a4fb",
   "metadata": {},
   "outputs": [],
   "source": [
    "reader.y_test.shape"
   ]
  },
  {
   "cell_type": "code",
   "execution_count": null,
   "id": "118fd977-650d-4a98-a455-bc8a08932be8",
   "metadata": {},
   "outputs": [],
   "source": [
    "y_pred = reader.descale_output(Y)"
   ]
  },
  {
   "cell_type": "code",
   "execution_count": null,
   "id": "7ecc9c07-30a3-4e13-8ded-3e5c12169689",
   "metadata": {},
   "outputs": [],
   "source": [
    "y_true = reader.descale_output(reader.y_test)"
   ]
  },
  {
   "cell_type": "code",
   "execution_count": null,
   "id": "fb10721b-5331-4798-b1c3-f96bb1e5da2e",
   "metadata": {},
   "outputs": [],
   "source": [
    "print(\"MAE\", np.mean(abs((y_pred-y_true)))/np.mean(y_true))\n",
    "print(\"MSE\", np.mean((y_pred-y_true)**2)**0.5/np.mean(y_true))\n",
    "print()\n",
    "print(\"MPAE : Mean Percentage absolute error\",100*np.mean(abs((y_pred-y_true)/y_true)))\n",
    "print(\"Percentage error of mean : \", 100*(np.mean(y_pred) -np.mean(y_true))/np.mean(y_true))"
   ]
  },
  {
   "cell_type": "code",
   "execution_count": null,
   "id": "367a1959-c26e-4982-adce-69dbb51422cf",
   "metadata": {},
   "outputs": [],
   "source": [
    "plt.plot(y_true.reshape(9300*60*1),'.', label = \"y_true\")\n",
    "plt.plot(y_pred.reshape(9300*60*1),'+', label = \"y_pred\")\n",
    "\n",
    "plt.legend()"
   ]
  },
  {
   "cell_type": "code",
   "execution_count": null,
   "id": "82170367-66b5-4f76-a75c-fa04308b0df6",
   "metadata": {},
   "outputs": [],
   "source": [
    "scaled_epsilon = abs((y_pred-y_true)).reshape(9300*60)/np.mean(y_true)\n",
    "plt.hist(epsilon,bins = np.arange(0,0.1,0.005), label = \"y_true\")\n"
   ]
  },
  {
   "cell_type": "code",
   "execution_count": null,
   "id": "639fe46d-6c46-44e6-a85c-ba547a14815c",
   "metadata": {},
   "outputs": [],
   "source": [
    "plt.plot(epsilon, '+')"
   ]
  },
  {
   "cell_type": "code",
   "execution_count": null,
   "id": "3c5abf42-b6ba-4cba-b975-83e121225d80",
   "metadata": {},
   "outputs": [],
   "source": [
    "np.median(err)"
   ]
  }
 ],
 "metadata": {
  "kernelspec": {
   "display_name": "Python 3 (ipykernel)",
   "language": "python",
   "name": "python3"
  },
  "language_info": {
   "codemirror_mode": {
    "name": "ipython",
    "version": 3
   },
   "file_extension": ".py",
   "mimetype": "text/x-python",
   "name": "python",
   "nbconvert_exporter": "python",
   "pygments_lexer": "ipython3",
   "version": "3.9.13"
  }
 },
 "nbformat": 4,
 "nbformat_minor": 5
}
