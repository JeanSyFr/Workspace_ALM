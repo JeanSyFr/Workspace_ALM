{
 "cells": [
  {
   "cell_type": "code",
   "execution_count": 1,
   "id": "5c7e2ca4-157d-40ba-8cd8-20f64d992456",
   "metadata": {},
   "outputs": [],
   "source": [
    "import os"
   ]
  },
  {
   "cell_type": "code",
   "execution_count": 6,
   "id": "9b8e35e8-5e0d-432d-b215-e58ec8a74ea8",
   "metadata": {},
   "outputs": [
    {
     "data": {
      "text/plain": [
       "'/home/jovyan/shared/ML_project_ALM'"
      ]
     },
     "execution_count": 6,
     "metadata": {},
     "output_type": "execute_result"
    }
   ],
   "source": [
    "os.getcwd()"
   ]
  },
  {
   "cell_type": "code",
   "execution_count": null,
   "id": "e5baf657-d653-4596-9b20-d27ee4e3ceb4",
   "metadata": {},
   "outputs": [],
   "source": [
    "read(\"/../data/fgdg.txt\")"
   ]
  },
  {
   "cell_type": "raw",
   "id": "4d600969-881e-41df-a8db-64a95ec174f2",
   "metadata": {},
   "source": []
  }
 ],
 "metadata": {
  "kernelspec": {
   "display_name": "Python 3 (ipykernel)",
   "language": "python",
   "name": "python3"
  },
  "language_info": {
   "codemirror_mode": {
    "name": "ipython",
    "version": 3
   },
   "file_extension": ".py",
   "mimetype": "text/x-python",
   "name": "python",
   "nbconvert_exporter": "python",
   "pygments_lexer": "ipython3",
   "version": "3.10.4"
  }
 },
 "nbformat": 4,
 "nbformat_minor": 5
}
